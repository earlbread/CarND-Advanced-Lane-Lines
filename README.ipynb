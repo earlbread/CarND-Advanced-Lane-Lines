{
 "cells": [
  {
   "cell_type": "markdown",
   "metadata": {},
   "source": [
    "# Advanced Lane Finding Project\n",
    "\n",
    "## Introduction\n",
    "\n",
    "This is a advanced version of [Lane Finding Project][].\n",
    "\n",
    "The goals / steps of this project are the following:\n",
    "\n",
    "- Compute the camera calibration matrix and distortion coefficients given a set of chessboard images.\n",
    "- Apply a distortion correction to raw images.\n",
    "- Use color transforms, gradients, etc., to create a thresholded binary image.\n",
    "- Apply a perspective transform to rectify binary image (\"birds-eye view\").\n",
    "- Detect lane pixels and fit to find the lane boundary.\n",
    "- Determine the curvature of the lane and vehicle position with respect to center.\n",
    "- Warp the detected lane boundaries back onto the original image.\n",
    "- Output visual display of the lane boundaries and numerical estimation of lane curvature and vehicle position.\n",
    "\n",
    "[Lane Finding Project]: https://github.com/earlbread/CarND-LaneLines-P1"
   ]
  },
  {
   "cell_type": "markdown",
   "metadata": {},
   "source": [
    "## Process steps"
   ]
  },
  {
   "cell_type": "markdown",
   "metadata": {},
   "source": [
    "Load the required modules and define the functions to proceed with each step."
   ]
  },
  {
   "cell_type": "code",
   "execution_count": null,
   "metadata": {
    "collapsed": false
   },
   "outputs": [],
   "source": [
    "import cv2\n",
    "import numpy as np\n",
    "import matplotlib.pyplot as plt\n",
    "import matplotlib.image as mpimg\n",
    "\n",
    "%matplotlib inline\n",
    "%load_ext autoreload\n",
    "%autoreload 2"
   ]
  },
  {
   "cell_type": "code",
   "execution_count": null,
   "metadata": {
    "collapsed": true
   },
   "outputs": [],
   "source": [
    "def show_processed_image(origin, processed, processed_title='Processed'):\n",
    "    fig, (ax1, ax2) = plt.subplots(1, 2, figsize=(30, 20))\n",
    "    fig.tight_layout()\n",
    "    \n",
    "    ax1.imshow(origin, cmap='gray')\n",
    "    ax1.set_title('Origin Image', fontsize=50)\n",
    "    \n",
    "    ax2.imshow(processed, cmap='gray')\n",
    "    ax2.set_title(processed_title, fontsize=50)\n",
    "    \n",
    "    plt.show()"
   ]
  },
  {
   "cell_type": "markdown",
   "metadata": {},
   "source": [
    "### 1. Calculate Camera Calibration and Correct Distortion\n",
    "\n",
    "Image distortion occurs when a camera looks at 3D objects in the real world and transforms them into a 2D image; this transformation isn’t perfect. Distortion actually changes what the shape and size of these 3D objects appear to be. So, the first step in analyzing camera images, is to undo this distortion so that you can get correct and useful information out of them."
   ]
  },
  {
   "cell_type": "markdown",
   "metadata": {},
   "source": [
    "To get calibration info, I used given 20 chessboard images."
   ]
  },
  {
   "cell_type": "code",
   "execution_count": null,
   "metadata": {
    "collapsed": true
   },
   "outputs": [],
   "source": [
    "import calibration as calib\n",
    "\n",
    "nx = 9\n",
    "ny = 6\n",
    "mtx, dist = calib.get_calibration_info('./camera_cal/', nx, ny)"
   ]
  },
  {
   "cell_type": "markdown",
   "metadata": {},
   "source": [
    "A sample chessboard image and corresponding undistorted image."
   ]
  },
  {
   "cell_type": "code",
   "execution_count": null,
   "metadata": {
    "collapsed": false
   },
   "outputs": [],
   "source": [
    "origin1 = mpimg.imread('./camera_cal/calibration1.jpg')\n",
    "undistorted1 = calib.undistort_image(origin1, mtx, dist)\n",
    "\n",
    "show_processed_image(origin1, undistorted1, processed_title='Undistorted Image')"
   ]
  },
  {
   "cell_type": "markdown",
   "metadata": {},
   "source": [
    "A sample raw image and corresponding undistorted image."
   ]
  },
  {
   "cell_type": "code",
   "execution_count": null,
   "metadata": {
    "collapsed": false
   },
   "outputs": [],
   "source": [
    "origin2 = mpimg.imread('./test_images/test6.jpg')\n",
    "undistorted2 = calib.undistort_image(origin2, mtx, dist)\n",
    "\n",
    "show_processed_image(origin2, undistorted2, processed_title='Undistorted Image')"
   ]
  },
  {
   "cell_type": "markdown",
   "metadata": {},
   "source": [
    "### 2. Create thresholded image"
   ]
  },
  {
   "cell_type": "markdown",
   "metadata": {
    "collapsed": false
   },
   "source": [
    "To detect lane lines, we need to create binary image using color and gradient threshold."
   ]
  },
  {
   "cell_type": "markdown",
   "metadata": {},
   "source": [
    "#### 1. Color Thresholding"
   ]
  },
  {
   "cell_type": "code",
   "execution_count": null,
   "metadata": {
    "collapsed": false
   },
   "outputs": [],
   "source": [
    "import thresholding\n",
    "image = mpimg.imread('./test_images/test4.jpg')\n",
    "\n",
    "s_image = thresholding.color_combine(image)\n",
    "show_processed_image(image, s_image, processed_title='Color binary')"
   ]
  },
  {
   "cell_type": "markdown",
   "metadata": {},
   "source": [
    "#### 2. Gradient thresholding"
   ]
  },
  {
   "cell_type": "code",
   "execution_count": null,
   "metadata": {
    "collapsed": false
   },
   "outputs": [],
   "source": [
    "import thresholding\n",
    "image = mpimg.imread('./test_images/test4.jpg')\n",
    "\n",
    "s_image = thresholding.grad_combine(image)\n",
    "show_processed_image(image, s_image, processed_title='Grad binary')"
   ]
  },
  {
   "cell_type": "markdown",
   "metadata": {},
   "source": [
    "#### 3. Combining result"
   ]
  },
  {
   "cell_type": "code",
   "execution_count": null,
   "metadata": {
    "collapsed": false,
    "scrolled": true
   },
   "outputs": [],
   "source": [
    "import thresholding\n",
    "image = mpimg.imread('./test_images/test4.jpg')\n",
    "\n",
    "s_image = thresholding.thresh_combine(image)\n",
    "show_processed_image(image, s_image, processed_title='Combined binary')"
   ]
  },
  {
   "cell_type": "markdown",
   "metadata": {},
   "source": [
    "### 3. Apply Perspective Transform"
   ]
  },
  {
   "cell_type": "markdown",
   "metadata": {},
   "source": [
    "bird’s-eye view transform that let’s us view a lane from above; this will be useful for calculating the lane curvature later on."
   ]
  },
  {
   "cell_type": "code",
   "execution_count": null,
   "metadata": {
    "collapsed": false
   },
   "outputs": [],
   "source": [
    "import perspective\n",
    "\n",
    "image = mpimg.imread('./test_images/straight_lines1.jpg')\n",
    "image = calib.undistort_image(image, mtx, dist)\n",
    "\n",
    "src = np.float32([[(167, 720),\n",
    "                   (585, 453),\n",
    "                   (698, 453),\n",
    "                   (1160, 720)]])\n",
    "\n",
    "dst = np.float32([[(320, 720),\n",
    "                   (320, 0),\n",
    "                   (960, 0),\n",
    "                   (960, 720)]])\n",
    "\n",
    "warped = perspective.perspective_transform(image)\n",
    "\n",
    "cv2.polylines(image, np.int_([src]), True, (255, 0, 0), 3)\n",
    "cv2.polylines(warped, np.int_([dst]), True, (255, 0, 0), 3)\n",
    "\n",
    "show_processed_image(image, warped, processed_title='Warped Image')"
   ]
  },
  {
   "cell_type": "code",
   "execution_count": null,
   "metadata": {
    "collapsed": false
   },
   "outputs": [],
   "source": [
    "import thresholding\n",
    "import perspective\n",
    "\n",
    "image = mpimg.imread('./test_images/straight_lines1.jpg')\n",
    "\n",
    "thresholded = thresholding.thresh_combine(image)\n",
    "warped_thresholded = perspective.perspective_transform(thresholded)\n",
    "\n",
    "show_processed_image(thresholded, warped_thresholded, processed_title='Warped Image')"
   ]
  }
 ],
 "metadata": {
  "kernelspec": {
   "display_name": "Python 3",
   "language": "python",
   "name": "python3"
  },
  "widgets": {
   "state": {
    "0af22542228640e6969c0ab7af5128a0": {
     "views": []
    },
    "106eee85b7de42a3b3c1622c384dfe00": {
     "views": []
    },
    "1b9074fef0614a1ca54d629b590200ed": {
     "views": []
    },
    "29b673568bac42818adec00422903d38": {
     "views": []
    },
    "2bcc66e0383c4e76aee05014fc15288f": {
     "views": []
    },
    "43fff5aca7ba49248a69ed35283761ce": {
     "views": []
    },
    "768726001fff482d859216f5be87faac": {
     "views": []
    },
    "896502491930438aa42a0573d1da7c1b": {
     "views": []
    },
    "8b07fd18e24141e5a4ae283f87587d66": {
     "views": []
    },
    "ad03f62a17e247888ab839f9773e3585": {
     "views": []
    },
    "b152a03c13c74cee8338b6a9f02defbb": {
     "views": []
    },
    "b96b41d7b46740c29adc4bdb5cfffd9a": {
     "views": []
    },
    "cb9b868508594e7581fbd9199b55c9ec": {
     "views": []
    },
    "d35bee98651e4141be5baa9ee0681391": {
     "views": []
    },
    "d4dcba82acd843a58c848da66df20f1c": {
     "views": []
    },
    "d6b40c5bb1184bd99394a34a95205d8e": {
     "views": []
    },
    "db90313c5ce04bab900864f82c404f74": {
     "views": []
    },
    "de029a8180924b98a7810cc4c05a8ca0": {
     "views": []
    },
    "df94596c5c4848e5925ee0a211571192": {
     "views": []
    },
    "f0dcaa77208d4af5b06bcbb932f857ab": {
     "views": []
    },
    "f154e7fbf62a4968a1a3750b0ad345c8": {
     "views": []
    },
    "f35841b77b8f476d8e14aab0c8ca4464": {
     "views": []
    }
   },
   "version": "1.1.2"
  }
 },
 "nbformat": 4,
 "nbformat_minor": 2
}
