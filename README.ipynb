{
 "cells": [
  {
   "cell_type": "markdown",
   "metadata": {},
   "source": [
    "# Advanced Lane Finding Project\n",
    "\n",
    "## Introduction\n",
    "\n",
    "This is a advanced version of [Lane Finding Project][].\n",
    "\n",
    "The goals / steps of this project are the following:\n",
    "\n",
    "- Compute the camera calibration matrix and distortion coefficients given a set of chessboard images.\n",
    "- Apply a distortion correction to raw images.\n",
    "- Use color transforms, gradients, etc., to create a thresholded binary image.\n",
    "- Apply a perspective transform to rectify binary image (\"birds-eye view\").\n",
    "- Detect lane pixels and fit to find the lane boundary.\n",
    "- Determine the curvature of the lane and vehicle position with respect to center.\n",
    "- Warp the detected lane boundaries back onto the original image.\n",
    "- Output visual display of the lane boundaries and numerical estimation of lane curvature and vehicle position.\n",
    "\n",
    "[Lane Finding Project]: https://github.com/earlbread/CarND-LaneLines-P1"
   ]
  },
  {
   "cell_type": "markdown",
   "metadata": {},
   "source": [
    "## Process steps"
   ]
  },
  {
   "cell_type": "markdown",
   "metadata": {},
   "source": [
    "Load the required modules and define the functions to proceed with each step."
   ]
  },
  {
   "cell_type": "code",
   "execution_count": null,
   "metadata": {
    "collapsed": false
   },
   "outputs": [],
   "source": [
    "import cv2\n",
    "import numpy as np\n",
    "import matplotlib.pyplot as plt\n",
    "import matplotlib.image as mpimg\n",
    "\n",
    "%matplotlib inline\n",
    "%load_ext autoreload\n",
    "%autoreload 2"
   ]
  },
  {
   "cell_type": "code",
   "execution_count": null,
   "metadata": {
    "collapsed": true
   },
   "outputs": [],
   "source": [
    "def show_processed_image(origin, processed, processed_title='Processed'):\n",
    "    fig, (ax1, ax2) = plt.subplots(1, 2, figsize=(30, 20))\n",
    "    fig.tight_layout()\n",
    "    \n",
    "    ax1.imshow(origin, cmap='gray')\n",
    "    ax1.set_title('Origin Image', fontsize=50)\n",
    "    \n",
    "    ax2.imshow(processed, cmap='gray')\n",
    "    ax2.set_title(processed_title, fontsize=50)\n",
    "    \n",
    "    plt.show()"
   ]
  },
  {
   "cell_type": "markdown",
   "metadata": {},
   "source": [
    "### 1. Calculate Camera Calibration and Correct Distortion\n",
    "\n",
    "Image distortion occurs when a camera looks at 3D objects in the real world and transforms them into a 2D image; this transformation isn’t perfect. Distortion actually changes what the shape and size of these 3D objects appear to be. So, the first step in analyzing camera images, is to undo this distortion so that you can get correct and useful information out of them."
   ]
  },
  {
   "cell_type": "markdown",
   "metadata": {},
   "source": [
    "To get calibration info, I used given 20 chessboard images."
   ]
  },
  {
   "cell_type": "code",
   "execution_count": null,
   "metadata": {
    "collapsed": true
   },
   "outputs": [],
   "source": [
    "import calibration as calib\n",
    "\n",
    "nx = 9\n",
    "ny = 6\n",
    "mtx, dist = calib.get_calibration_info('./camera_cal/', nx, ny)"
   ]
  },
  {
   "cell_type": "markdown",
   "metadata": {},
   "source": [
    "A sample chessboard image and corresponding undistorted image."
   ]
  },
  {
   "cell_type": "code",
   "execution_count": null,
   "metadata": {
    "collapsed": false
   },
   "outputs": [],
   "source": [
    "origin1 = mpimg.imread('./camera_cal/calibration1.jpg')\n",
    "undistorted1 = calib.undistort_image(origin1, mtx, dist)\n",
    "\n",
    "show_processed_image(origin1, undistorted1, processed_title='Undistorted Image')"
   ]
  },
  {
   "cell_type": "markdown",
   "metadata": {},
   "source": [
    "A sample raw image and corresponding undistorted image."
   ]
  },
  {
   "cell_type": "code",
   "execution_count": null,
   "metadata": {
    "collapsed": false
   },
   "outputs": [],
   "source": [
    "origin2 = mpimg.imread('./test_images/test6.jpg')\n",
    "undistorted2 = calib.undistort_image(origin2, mtx, dist)\n",
    "\n",
    "show_processed_image(origin2, undistorted2, processed_title='Undistorted Image')"
   ]
  },
  {
   "cell_type": "markdown",
   "metadata": {},
   "source": [
    "### 2. Create thresholded image"
   ]
  },
  {
   "cell_type": "markdown",
   "metadata": {
    "collapsed": false
   },
   "source": [
    "To detect lane lines, we need to create binary image using color and gradient threshold."
   ]
  },
  {
   "cell_type": "markdown",
   "metadata": {},
   "source": [
    "#### 1. Color Thresholding"
   ]
  },
  {
   "cell_type": "code",
   "execution_count": null,
   "metadata": {
    "collapsed": false
   },
   "outputs": [],
   "source": [
    "import thresholding\n",
    "image = mpimg.imread('./test_images/test5.jpg')\n",
    "\n",
    "s_image = thresholding.color_combine(image)\n",
    "show_processed_image(image, s_image, processed_title='Color binary')"
   ]
  },
  {
   "cell_type": "markdown",
   "metadata": {},
   "source": [
    "#### 2. Gradient thresholding"
   ]
  },
  {
   "cell_type": "code",
   "execution_count": null,
   "metadata": {
    "collapsed": false
   },
   "outputs": [],
   "source": [
    "import thresholding\n",
    "image = mpimg.imread('./test_images/test5.jpg')\n",
    "\n",
    "s_image = thresholding.grad_combine(image)\n",
    "show_processed_image(image, s_image, processed_title='Grad binary')"
   ]
  },
  {
   "cell_type": "markdown",
   "metadata": {},
   "source": [
    "#### 3. Combining result"
   ]
  },
  {
   "cell_type": "code",
   "execution_count": null,
   "metadata": {
    "collapsed": false,
    "scrolled": true
   },
   "outputs": [],
   "source": [
    "import thresholding\n",
    "image = mpimg.imread('./test_images/test5.jpg')\n",
    "\n",
    "s_image = thresholding.thresh_combine(image)\n",
    "show_processed_image(image, s_image, processed_title='Combined binary')"
   ]
  },
  {
   "cell_type": "markdown",
   "metadata": {},
   "source": [
    "### 3. Apply Perspective Transform"
   ]
  },
  {
   "cell_type": "markdown",
   "metadata": {},
   "source": [
    "bird’s-eye view transform that let’s us view a lane from above; this will be useful for calculating the lane curvature later on."
   ]
  },
  {
   "cell_type": "code",
   "execution_count": null,
   "metadata": {
    "collapsed": false
   },
   "outputs": [],
   "source": [
    "import perspective\n",
    "\n",
    "image = mpimg.imread('./test_images/straight_lines1.jpg')\n",
    "image = calib.undistort_image(image, mtx, dist)\n",
    "\n",
    "src = np.float32([[(167, 720),\n",
    "                   (585, 453),\n",
    "                   (698, 453),\n",
    "                   (1160, 720)]])\n",
    "\n",
    "dst = np.float32([[(200, 720),\n",
    "                   (200, 0),\n",
    "                   (1080, 0),\n",
    "                   (1080, 720)]])\n",
    "\n",
    "warped = perspective.perspective_transform(image)\n",
    "\n",
    "cv2.polylines(image, np.int_([src]), True, (255, 0, 0), 3)\n",
    "cv2.polylines(warped, np.int_([dst]), True, (255, 0, 0), 3)\n",
    "\n",
    "show_processed_image(image, warped, processed_title='Warped Image')"
   ]
  },
  {
   "cell_type": "code",
   "execution_count": null,
   "metadata": {
    "collapsed": false
   },
   "outputs": [],
   "source": [
    "import thresholding\n",
    "import perspective\n",
    "\n",
    "image = mpimg.imread('./test_images/test5.jpg')\n",
    "\n",
    "thresholded = thresholding.thresh_combine(image)\n",
    "warped_thresholded = perspective.perspective_transform(thresholded)\n",
    "\n",
    "show_processed_image(thresholded, warped_thresholded, processed_title='Warped Image')"
   ]
  },
  {
   "cell_type": "markdown",
   "metadata": {},
   "source": [
    "### 4. Detect Lane Pixels"
   ]
  },
  {
   "cell_type": "markdown",
   "metadata": {},
   "source": [
    "We can using sliding window search to detect lane lines."
   ]
  },
  {
   "cell_type": "code",
   "execution_count": null,
   "metadata": {
    "collapsed": false
   },
   "outputs": [],
   "source": [
    "import laneline\n",
    "import perspective\n",
    "\n",
    "image = mpimg.imread('./test_images/test5.jpg')\n",
    "image = calib.undistort_image(image, mtx, dist)\n",
    "\n",
    "binary = thresholding.thresh_combine(image)\n",
    "binary_warped = perspective.perspective_transform(binary)\n",
    "\n",
    "detected, ploty, leftx, rightx, left_fitx, right_fitx, curvature, dist_center = laneline.sliding_window(binary_warped)\n",
    "\n",
    "show_processed_image(image, detected, processed_title='Line Detected Image')"
   ]
  },
  {
   "cell_type": "markdown",
   "metadata": {},
   "source": [
    "### 5. Warp back the detected lane boundaries and lane info"
   ]
  },
  {
   "cell_type": "markdown",
   "metadata": {},
   "source": [
    "The last step is drawing lane boundaries to original image."
   ]
  },
  {
   "cell_type": "code",
   "execution_count": null,
   "metadata": {
    "collapsed": false
   },
   "outputs": [],
   "source": [
    "import laneline\n",
    "import perspective\n",
    "\n",
    "image = mpimg.imread('./test_images/test5.jpg')\n",
    "image = calib.undistort_image(image, mtx, dist)\n",
    "\n",
    "binary = thresholding.thresh_combine(image)\n",
    "binary_warped = perspective.perspective_transform(binary)\n",
    "\n",
    "detected, ploty, leftx, rightx, left_fitx, right_fitx, curvature, dist_center = laneline.sliding_window(binary_warped)\n",
    "\n",
    "mapped_lane = perspective.fill_laneline(image, binary_warped, ploty, left_fitx, right_fitx)\n",
    "result = laneline.add_line_info(mapped_lane, curvature, dist_center)\n",
    "\n",
    "show_processed_image(image, result, processed_title='Final Image')"
   ]
  }
 ],
 "metadata": {
  "kernelspec": {
   "display_name": "Python 3",
   "language": "python",
   "name": "python3"
  },
  "language_info": {
   "codemirror_mode": {
    "name": "ipython",
    "version": 3
   },
   "file_extension": ".py",
   "mimetype": "text/x-python",
   "name": "python",
   "nbconvert_exporter": "python",
   "pygments_lexer": "ipython3",
   "version": "3.5.2"
  },
  "widgets": {
   "state": {},
   "version": "1.1.2"
  }
 },
 "nbformat": 4,
 "nbformat_minor": 2
}
